{
  "nbformat": 4,
  "nbformat_minor": 0,
  "metadata": {
    "colab": {
      "provenance": []
    },
    "kernelspec": {
      "name": "python3",
      "display_name": "Python 3"
    },
    "language_info": {
      "name": "python"
    }
  },
  "cells": [
    {
      "cell_type": "code",
      "execution_count": null,
      "metadata": {
        "id": "ys6pqyy8b1-D"
      },
      "outputs": [],
      "source": [
        "import pandas as pd\n",
        "import numpy as np\n",
        "from sklearn.model_selection import train_test_split\n",
        "from sklearn.preprocessing import MinMaxScaler\n",
        "from sklearn.ensemble import RandomForestRegressor\n",
        "from sklearn.metrics import mean_absolute_error, mean_squared_error, r2_score\n",
        "from sklearn.model_selection import GridSearchCV"
      ]
    },
    {
      "cell_type": "code",
      "source": [
        "# Membaca dataset\n",
        "df = pd.read_csv(\"global air pollution dataset.csv\")\n",
        "print(df)"
      ],
      "metadata": {
        "id": "po82FDbBb-uW",
        "colab": {
          "base_uri": "https://localhost:8080/"
        },
        "outputId": "4c9fdc44-d3fb-426f-a7a0-59def0d79aee"
      },
      "execution_count": null,
      "outputs": [
        {
          "output_type": "stream",
          "name": "stdout",
          "text": [
            "                        Country              City  AQI Value AQI Category  \\\n",
            "0            Russian Federation        Praskoveya         51     Moderate   \n",
            "1                        Brazil  Presidente Dutra         41         Good   \n",
            "2                         Italy   Priolo Gargallo         66     Moderate   \n",
            "3                        Poland         Przasnysz         34         Good   \n",
            "4                        France          Punaauia         22         Good   \n",
            "...                         ...               ...        ...          ...   \n",
            "23458                     India      Gursahaiganj        184    Unhealthy   \n",
            "23459                    France            Sceaux         50         Good   \n",
            "23460                     India          Mormugao         50         Good   \n",
            "23461  United States of America       Westerville         71     Moderate   \n",
            "23462                  Malaysia            Marang         70     Moderate   \n",
            "\n",
            "       CO AQI Value CO AQI Category  Ozone AQI Value Ozone AQI Category  \\\n",
            "0                 1            Good               36               Good   \n",
            "1                 1            Good                5               Good   \n",
            "2                 1            Good               39               Good   \n",
            "3                 1            Good               34               Good   \n",
            "4                 0            Good               22               Good   \n",
            "...             ...             ...              ...                ...   \n",
            "23458             3            Good              154          Unhealthy   \n",
            "23459             1            Good               20               Good   \n",
            "23460             1            Good               22               Good   \n",
            "23461             1            Good               44               Good   \n",
            "23462             1            Good               38               Good   \n",
            "\n",
            "       NO2 AQI Value NO2 AQI Category  PM2.5 AQI Value PM2.5 AQI Category  \n",
            "0                  0             Good               51           Moderate  \n",
            "1                  1             Good               41               Good  \n",
            "2                  2             Good               66           Moderate  \n",
            "3                  0             Good               20               Good  \n",
            "4                  0             Good                6               Good  \n",
            "...              ...              ...              ...                ...  \n",
            "23458              2             Good              184          Unhealthy  \n",
            "23459              5             Good               50               Good  \n",
            "23460              1             Good               50               Good  \n",
            "23461              2             Good               71           Moderate  \n",
            "23462              0             Good               70           Moderate  \n",
            "\n",
            "[23463 rows x 12 columns]\n"
          ]
        }
      ]
    },
    {
      "cell_type": "code",
      "source": [
        "# Melakukan statistik deskriptif pada kolom AQI Value\n",
        "kolom_aqi_value = df['AQI Value']\n",
        "\n",
        "mean = np.mean(kolom_aqi_value)\n",
        "modus = np.argmax(np.bincount(kolom_aqi_value))\n",
        "median = np.median(kolom_aqi_value)\n",
        "quartile_1 = np.percentile(kolom_aqi_value, 25)\n",
        "quartile_3 = np.percentile(kolom_aqi_value, 75)\n",
        "std_deviation = np.std(kolom_aqi_value)\n",
        "variance = np.var(kolom_aqi_value)"
      ],
      "metadata": {
        "id": "TRxv2iGSBYui"
      },
      "execution_count": null,
      "outputs": []
    },
    {
      "cell_type": "code",
      "source": [
        "# Menampilkan hasil statistik deskriptif\n",
        "print(\"Statistik Deskriptif pada AQI Value:\")\n",
        "print(\"Mean:\", mean)\n",
        "print(\"Modus:\", modus)\n",
        "print(\"Median:\", median)\n",
        "print(\"Quartile 1:\", quartile_1)\n",
        "print(\"Quartile 3:\", quartile_3)\n",
        "print(\"Standar Deviasi:\", std_deviation)\n",
        "print(\"Variance:\", variance)"
      ],
      "metadata": {
        "id": "NePVQ4krBY-w",
        "colab": {
          "base_uri": "https://localhost:8080/"
        },
        "outputId": "9eebda93-eced-4603-f9c2-dabb5dec6692"
      },
      "execution_count": null,
      "outputs": [
        {
          "output_type": "stream",
          "name": "stdout",
          "text": [
            "Statistik Deskriptif pada AQI Value:\n",
            "Mean: 72.01086817542513\n",
            "Modus: 50\n",
            "Median: 55.0\n",
            "Quartile 1: 39.0\n",
            "Quartile 3: 79.0\n",
            "Standar Deviasi: 56.054025694475605\n",
            "Variance: 3142.053796556931\n"
          ]
        }
      ]
    },
    {
      "cell_type": "code",
      "source": [
        "# Preprocessing data (Contoh: Menghapus kolom yang tidak relevan dan Normalisasi menggunakan Min-Max Scaling)\n",
        "df = df.drop(['Country', 'City', 'AQI Category', 'CO AQI Category', 'Ozone AQI Category', 'NO2 AQI Category', 'PM2.5 AQI Category'], axis=1)\n",
        "scaler = MinMaxScaler()\n",
        "df[['CO AQI Value', 'Ozone AQI Value', 'NO2 AQI Value', 'PM2.5 AQI Value']] = scaler.fit_transform(df[['CO AQI Value', 'Ozone AQI Value', 'NO2 AQI Value', 'PM2.5 AQI Value']])"
      ],
      "metadata": {
        "id": "__jDj_rYb-xw"
      },
      "execution_count": null,
      "outputs": []
    },
    {
      "cell_type": "code",
      "source": [
        "# Split data menjadi atribut (X) dan target (y)\n",
        "X = df.drop('AQI Value', axis=1)\n",
        "y = df['AQI Value']"
      ],
      "metadata": {
        "id": "tRD-IBhtb-11"
      },
      "execution_count": null,
      "outputs": []
    },
    {
      "cell_type": "code",
      "source": [
        "# Membagi data menjadi set pelatihan dan pengujian\n",
        "X_train, X_test, y_train, y_test = train_test_split(X, y, test_size=0.2, random_state=42)"
      ],
      "metadata": {
        "id": "OHt5723kb-5W"
      },
      "execution_count": null,
      "outputs": []
    },
    {
      "cell_type": "code",
      "source": [
        "# Tuning Hyperparameter menggunakan GridSearchCV\n",
        "param_grid = {\n",
        "    'n_estimators': [100, 200, 300],\n",
        "    'max_depth': [None, 5, 10],\n",
        "    'max_features': [1.0, 'sqrt', 'log2']\n",
        "}\n",
        "model = RandomForestRegressor(random_state=42)\n",
        "grid_search = GridSearchCV(estimator=model, param_grid=param_grid, cv=5)\n",
        "grid_search.fit(X_train, y_train)"
      ],
      "metadata": {
        "colab": {
          "base_uri": "https://localhost:8080/",
          "height": 119
        },
        "id": "WDs6cTwVb-9T",
        "outputId": "07ce01d8-b95e-4944-9ca0-63a9dc2e62b8"
      },
      "execution_count": null,
      "outputs": [
        {
          "output_type": "execute_result",
          "data": {
            "text/plain": [
              "GridSearchCV(cv=5, estimator=RandomForestRegressor(random_state=42),\n",
              "             param_grid={'max_depth': [None, 5, 10],\n",
              "                         'max_features': [1.0, 'sqrt', 'log2'],\n",
              "                         'n_estimators': [100, 200, 300]})"
            ],
            "text/html": [
              "<style>#sk-container-id-1 {color: black;background-color: white;}#sk-container-id-1 pre{padding: 0;}#sk-container-id-1 div.sk-toggleable {background-color: white;}#sk-container-id-1 label.sk-toggleable__label {cursor: pointer;display: block;width: 100%;margin-bottom: 0;padding: 0.3em;box-sizing: border-box;text-align: center;}#sk-container-id-1 label.sk-toggleable__label-arrow:before {content: \"▸\";float: left;margin-right: 0.25em;color: #696969;}#sk-container-id-1 label.sk-toggleable__label-arrow:hover:before {color: black;}#sk-container-id-1 div.sk-estimator:hover label.sk-toggleable__label-arrow:before {color: black;}#sk-container-id-1 div.sk-toggleable__content {max-height: 0;max-width: 0;overflow: hidden;text-align: left;background-color: #f0f8ff;}#sk-container-id-1 div.sk-toggleable__content pre {margin: 0.2em;color: black;border-radius: 0.25em;background-color: #f0f8ff;}#sk-container-id-1 input.sk-toggleable__control:checked~div.sk-toggleable__content {max-height: 200px;max-width: 100%;overflow: auto;}#sk-container-id-1 input.sk-toggleable__control:checked~label.sk-toggleable__label-arrow:before {content: \"▾\";}#sk-container-id-1 div.sk-estimator input.sk-toggleable__control:checked~label.sk-toggleable__label {background-color: #d4ebff;}#sk-container-id-1 div.sk-label input.sk-toggleable__control:checked~label.sk-toggleable__label {background-color: #d4ebff;}#sk-container-id-1 input.sk-hidden--visually {border: 0;clip: rect(1px 1px 1px 1px);clip: rect(1px, 1px, 1px, 1px);height: 1px;margin: -1px;overflow: hidden;padding: 0;position: absolute;width: 1px;}#sk-container-id-1 div.sk-estimator {font-family: monospace;background-color: #f0f8ff;border: 1px dotted black;border-radius: 0.25em;box-sizing: border-box;margin-bottom: 0.5em;}#sk-container-id-1 div.sk-estimator:hover {background-color: #d4ebff;}#sk-container-id-1 div.sk-parallel-item::after {content: \"\";width: 100%;border-bottom: 1px solid gray;flex-grow: 1;}#sk-container-id-1 div.sk-label:hover label.sk-toggleable__label {background-color: #d4ebff;}#sk-container-id-1 div.sk-serial::before {content: \"\";position: absolute;border-left: 1px solid gray;box-sizing: border-box;top: 0;bottom: 0;left: 50%;z-index: 0;}#sk-container-id-1 div.sk-serial {display: flex;flex-direction: column;align-items: center;background-color: white;padding-right: 0.2em;padding-left: 0.2em;position: relative;}#sk-container-id-1 div.sk-item {position: relative;z-index: 1;}#sk-container-id-1 div.sk-parallel {display: flex;align-items: stretch;justify-content: center;background-color: white;position: relative;}#sk-container-id-1 div.sk-item::before, #sk-container-id-1 div.sk-parallel-item::before {content: \"\";position: absolute;border-left: 1px solid gray;box-sizing: border-box;top: 0;bottom: 0;left: 50%;z-index: -1;}#sk-container-id-1 div.sk-parallel-item {display: flex;flex-direction: column;z-index: 1;position: relative;background-color: white;}#sk-container-id-1 div.sk-parallel-item:first-child::after {align-self: flex-end;width: 50%;}#sk-container-id-1 div.sk-parallel-item:last-child::after {align-self: flex-start;width: 50%;}#sk-container-id-1 div.sk-parallel-item:only-child::after {width: 0;}#sk-container-id-1 div.sk-dashed-wrapped {border: 1px dashed gray;margin: 0 0.4em 0.5em 0.4em;box-sizing: border-box;padding-bottom: 0.4em;background-color: white;}#sk-container-id-1 div.sk-label label {font-family: monospace;font-weight: bold;display: inline-block;line-height: 1.2em;}#sk-container-id-1 div.sk-label-container {text-align: center;}#sk-container-id-1 div.sk-container {/* jupyter's `normalize.less` sets `[hidden] { display: none; }` but bootstrap.min.css set `[hidden] { display: none !important; }` so we also need the `!important` here to be able to override the default hidden behavior on the sphinx rendered scikit-learn.org. See: https://github.com/scikit-learn/scikit-learn/issues/21755 */display: inline-block !important;position: relative;}#sk-container-id-1 div.sk-text-repr-fallback {display: none;}</style><div id=\"sk-container-id-1\" class=\"sk-top-container\"><div class=\"sk-text-repr-fallback\"><pre>GridSearchCV(cv=5, estimator=RandomForestRegressor(random_state=42),\n",
              "             param_grid={&#x27;max_depth&#x27;: [None, 5, 10],\n",
              "                         &#x27;max_features&#x27;: [1.0, &#x27;sqrt&#x27;, &#x27;log2&#x27;],\n",
              "                         &#x27;n_estimators&#x27;: [100, 200, 300]})</pre><b>In a Jupyter environment, please rerun this cell to show the HTML representation or trust the notebook. <br />On GitHub, the HTML representation is unable to render, please try loading this page with nbviewer.org.</b></div><div class=\"sk-container\" hidden><div class=\"sk-item sk-dashed-wrapped\"><div class=\"sk-label-container\"><div class=\"sk-label sk-toggleable\"><input class=\"sk-toggleable__control sk-hidden--visually\" id=\"sk-estimator-id-1\" type=\"checkbox\" ><label for=\"sk-estimator-id-1\" class=\"sk-toggleable__label sk-toggleable__label-arrow\">GridSearchCV</label><div class=\"sk-toggleable__content\"><pre>GridSearchCV(cv=5, estimator=RandomForestRegressor(random_state=42),\n",
              "             param_grid={&#x27;max_depth&#x27;: [None, 5, 10],\n",
              "                         &#x27;max_features&#x27;: [1.0, &#x27;sqrt&#x27;, &#x27;log2&#x27;],\n",
              "                         &#x27;n_estimators&#x27;: [100, 200, 300]})</pre></div></div></div><div class=\"sk-parallel\"><div class=\"sk-parallel-item\"><div class=\"sk-item\"><div class=\"sk-label-container\"><div class=\"sk-label sk-toggleable\"><input class=\"sk-toggleable__control sk-hidden--visually\" id=\"sk-estimator-id-2\" type=\"checkbox\" ><label for=\"sk-estimator-id-2\" class=\"sk-toggleable__label sk-toggleable__label-arrow\">estimator: RandomForestRegressor</label><div class=\"sk-toggleable__content\"><pre>RandomForestRegressor(random_state=42)</pre></div></div></div><div class=\"sk-serial\"><div class=\"sk-item\"><div class=\"sk-estimator sk-toggleable\"><input class=\"sk-toggleable__control sk-hidden--visually\" id=\"sk-estimator-id-3\" type=\"checkbox\" ><label for=\"sk-estimator-id-3\" class=\"sk-toggleable__label sk-toggleable__label-arrow\">RandomForestRegressor</label><div class=\"sk-toggleable__content\"><pre>RandomForestRegressor(random_state=42)</pre></div></div></div></div></div></div></div></div></div></div>"
            ]
          },
          "metadata": {},
          "execution_count": 8
        }
      ]
    },
    {
      "cell_type": "code",
      "source": [
        "# Mendapatkan model terbaik setelah tuning hyperparameter\n",
        "best_model = grid_search.best_estimator_"
      ],
      "metadata": {
        "id": "bMbQxEcvdSGX"
      },
      "execution_count": null,
      "outputs": []
    },
    {
      "cell_type": "code",
      "source": [
        "# Melakukan prediksi pada data pengujian dengan model terbaik\n",
        "y_pred = best_model.predict(X_test)"
      ],
      "metadata": {
        "id": "uBjw6GXRb_Eb"
      },
      "execution_count": null,
      "outputs": []
    },
    {
      "cell_type": "code",
      "source": [
        "# Evaluasi model\n",
        "mae = mean_absolute_error(y_test, y_pred)\n",
        "mse = mean_squared_error(y_test, y_pred)\n",
        "r2 = r2_score(y_test, y_pred)"
      ],
      "metadata": {
        "id": "_1unVwOsb_Hy"
      },
      "execution_count": null,
      "outputs": []
    },
    {
      "cell_type": "code",
      "source": [
        "# Menampilkan hasil evaluasi\n",
        "print(\"Mean Absolute Error:\", mae)\n",
        "print(\"Mean Squared Error:\", mse)\n",
        "print(\"R-squared:\", r2)"
      ],
      "metadata": {
        "colab": {
          "base_uri": "https://localhost:8080/"
        },
        "id": "AlWZWWMLb_LB",
        "outputId": "a1518a42-4287-43c1-c2f4-d9686adf7c24"
      },
      "execution_count": null,
      "outputs": [
        {
          "output_type": "stream",
          "name": "stdout",
          "text": [
            "Mean Absolute Error: 0.22601001491583209\n",
            "Mean Squared Error: 6.939175703174943\n",
            "R-squared: 0.9978224182456765\n"
          ]
        }
      ]
    }
  ]
}